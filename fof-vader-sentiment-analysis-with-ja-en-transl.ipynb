{
 "cells": [
  {
   "cell_type": "markdown",
   "id": "01fa7ecc",
   "metadata": {
    "papermill": {
     "duration": 0.006336,
     "end_time": "2024-07-14T06:32:11.375307",
     "exception": false,
     "start_time": "2024-07-14T06:32:11.368971",
     "status": "completed"
    },
    "tags": []
   },
   "source": [
    "# さまざまな意見についての Vader 感情分析"
   ]
  },
  {
   "cell_type": "markdown",
   "id": "c2b49915",
   "metadata": {
    "papermill": {
     "duration": 0.004718,
     "end_time": "2024-07-14T06:32:11.385270",
     "exception": false,
     "start_time": "2024-07-14T06:32:11.380552",
     "status": "completed"
    },
    "tags": []
   },
   "source": [
    "# はじめに"
   ]
  },
  {
   "cell_type": "markdown",
   "id": "1a0ddc42",
   "metadata": {
    "papermill": {
     "duration": 0.004651,
     "end_time": "2024-07-14T06:32:11.395020",
     "exception": false,
     "start_time": "2024-07-14T06:32:11.390369",
     "status": "completed"
    },
    "tags": []
   },
   "source": [
    "東京都知事選が終わりましたが、候補者に対して賛否両論さまざまな意見が上がっています。今回、収取した意見について Vaderを用いた Sentiment 解析を行い、発言者をクラス分けできるかやってみました。\n",
    "\n",
    "VADER (Valence Aware Dictionary and sEntiment Reasoner) 感情分析は、ソーシャル メディアのテキストで表現された感情を分析するために設計された、語彙とルールに基づく感情分析ツールです。トレーニング済みなので、少ない数のデータに対しても学習無しで解析できます。"
   ]
  },
  {
   "cell_type": "markdown",
   "id": "94f5adb8",
   "metadata": {
    "papermill": {
     "duration": 0.004499,
     "end_time": "2024-07-14T06:32:11.405468",
     "exception": false,
     "start_time": "2024-07-14T06:32:11.400969",
     "status": "completed"
    },
    "tags": []
   },
   "source": [
    "# 使用ライブラリ"
   ]
  },
  {
   "cell_type": "code",
   "execution_count": 1,
   "id": "5f952470",
   "metadata": {
    "_kg_hide-output": true,
    "execution": {
     "iopub.execute_input": "2024-07-14T06:32:11.417881Z",
     "iopub.status.busy": "2024-07-14T06:32:11.417371Z",
     "iopub.status.idle": "2024-07-14T06:32:33.643515Z",
     "shell.execute_reply": "2024-07-14T06:32:33.642272Z"
    },
    "papermill": {
     "duration": 22.23717,
     "end_time": "2024-07-14T06:32:33.647461",
     "exception": false,
     "start_time": "2024-07-14T06:32:11.410291",
     "status": "completed"
    },
    "tags": []
   },
   "outputs": [
    {
     "name": "stdout",
     "output_type": "stream",
     "text": [
      "Collecting googletrans==3.1.0a0\r\n",
      "  Downloading googletrans-3.1.0a0.tar.gz (19 kB)\r\n",
      "  Preparing metadata (setup.py) ... \u001b[?25l-\b \b\\\b \b|\b \bdone\r\n",
      "\u001b[?25hCollecting httpx==0.13.3 (from googletrans==3.1.0a0)\r\n",
      "  Downloading httpx-0.13.3-py3-none-any.whl.metadata (25 kB)\r\n",
      "Requirement already satisfied: certifi in /opt/conda/lib/python3.10/site-packages (from httpx==0.13.3->googletrans==3.1.0a0) (2024.7.4)\r\n",
      "Collecting hstspreload (from httpx==0.13.3->googletrans==3.1.0a0)\r\n",
      "  Downloading hstspreload-2024.7.1-py3-none-any.whl.metadata (2.1 kB)\r\n",
      "Requirement already satisfied: sniffio in /opt/conda/lib/python3.10/site-packages (from httpx==0.13.3->googletrans==3.1.0a0) (1.3.0)\r\n",
      "Collecting chardet==3.* (from httpx==0.13.3->googletrans==3.1.0a0)\r\n",
      "  Downloading chardet-3.0.4-py2.py3-none-any.whl.metadata (3.2 kB)\r\n",
      "Collecting idna==2.* (from httpx==0.13.3->googletrans==3.1.0a0)\r\n",
      "  Downloading idna-2.10-py2.py3-none-any.whl.metadata (9.1 kB)\r\n",
      "Collecting rfc3986<2,>=1.3 (from httpx==0.13.3->googletrans==3.1.0a0)\r\n",
      "  Downloading rfc3986-1.5.0-py2.py3-none-any.whl.metadata (6.5 kB)\r\n",
      "Collecting httpcore==0.9.* (from httpx==0.13.3->googletrans==3.1.0a0)\r\n",
      "  Downloading httpcore-0.9.1-py3-none-any.whl.metadata (4.6 kB)\r\n",
      "Collecting h11<0.10,>=0.8 (from httpcore==0.9.*->httpx==0.13.3->googletrans==3.1.0a0)\r\n",
      "  Downloading h11-0.9.0-py2.py3-none-any.whl.metadata (8.1 kB)\r\n",
      "Collecting h2==3.* (from httpcore==0.9.*->httpx==0.13.3->googletrans==3.1.0a0)\r\n",
      "  Downloading h2-3.2.0-py2.py3-none-any.whl.metadata (32 kB)\r\n",
      "Collecting hyperframe<6,>=5.2.0 (from h2==3.*->httpcore==0.9.*->httpx==0.13.3->googletrans==3.1.0a0)\r\n",
      "  Downloading hyperframe-5.2.0-py2.py3-none-any.whl.metadata (7.2 kB)\r\n",
      "Collecting hpack<4,>=3.0 (from h2==3.*->httpcore==0.9.*->httpx==0.13.3->googletrans==3.1.0a0)\r\n",
      "  Downloading hpack-3.0.0-py2.py3-none-any.whl.metadata (7.0 kB)\r\n",
      "Downloading httpx-0.13.3-py3-none-any.whl (55 kB)\r\n",
      "\u001b[2K   \u001b[90m━━━━━━━━━━━━━━━━━━━━━━━━━━━━━━━━━━━━━━━━\u001b[0m \u001b[32m55.1/55.1 kB\u001b[0m \u001b[31m2.9 MB/s\u001b[0m eta \u001b[36m0:00:00\u001b[0m\r\n",
      "\u001b[?25hDownloading chardet-3.0.4-py2.py3-none-any.whl (133 kB)\r\n",
      "\u001b[2K   \u001b[90m━━━━━━━━━━━━━━━━━━━━━━━━━━━━━━━━━━━━━━━━\u001b[0m \u001b[32m133.4/133.4 kB\u001b[0m \u001b[31m5.1 MB/s\u001b[0m eta \u001b[36m0:00:00\u001b[0m\r\n",
      "\u001b[?25hDownloading httpcore-0.9.1-py3-none-any.whl (42 kB)\r\n",
      "\u001b[2K   \u001b[90m━━━━━━━━━━━━━━━━━━━━━━━━━━━━━━━━━━━━━━━━\u001b[0m \u001b[32m42.6/42.6 kB\u001b[0m \u001b[31m2.2 MB/s\u001b[0m eta \u001b[36m0:00:00\u001b[0m\r\n",
      "\u001b[?25hDownloading idna-2.10-py2.py3-none-any.whl (58 kB)\r\n",
      "\u001b[2K   \u001b[90m━━━━━━━━━━━━━━━━━━━━━━━━━━━━━━━━━━━━━━━━\u001b[0m \u001b[32m58.8/58.8 kB\u001b[0m \u001b[31m2.8 MB/s\u001b[0m eta \u001b[36m0:00:00\u001b[0m\r\n",
      "\u001b[?25hDownloading h2-3.2.0-py2.py3-none-any.whl (65 kB)\r\n",
      "\u001b[2K   \u001b[90m━━━━━━━━━━━━━━━━━━━━━━━━━━━━━━━━━━━━━━━━\u001b[0m \u001b[32m65.0/65.0 kB\u001b[0m \u001b[31m3.5 MB/s\u001b[0m eta \u001b[36m0:00:00\u001b[0m\r\n",
      "\u001b[?25hDownloading rfc3986-1.5.0-py2.py3-none-any.whl (31 kB)\r\n",
      "Downloading hstspreload-2024.7.1-py3-none-any.whl (1.2 MB)\r\n",
      "\u001b[2K   \u001b[90m━━━━━━━━━━━━━━━━━━━━━━━━━━━━━━━━━━━━━━━━\u001b[0m \u001b[32m1.2/1.2 MB\u001b[0m \u001b[31m38.0 MB/s\u001b[0m eta \u001b[36m0:00:00\u001b[0m\r\n",
      "\u001b[?25hDownloading h11-0.9.0-py2.py3-none-any.whl (53 kB)\r\n",
      "\u001b[2K   \u001b[90m━━━━━━━━━━━━━━━━━━━━━━━━━━━━━━━━━━━━━━━━\u001b[0m \u001b[32m53.6/53.6 kB\u001b[0m \u001b[31m2.9 MB/s\u001b[0m eta \u001b[36m0:00:00\u001b[0m\r\n",
      "\u001b[?25hDownloading hpack-3.0.0-py2.py3-none-any.whl (38 kB)\r\n",
      "Downloading hyperframe-5.2.0-py2.py3-none-any.whl (12 kB)\r\n",
      "Building wheels for collected packages: googletrans\r\n",
      "  Building wheel for googletrans (setup.py) ... \u001b[?25l-\b \b\\\b \b|\b \b/\b \bdone\r\n",
      "\u001b[?25h  Created wheel for googletrans: filename=googletrans-3.1.0a0-py3-none-any.whl size=16352 sha256=c365613070f73cff06a5f9e5e9bcc87d07804fb460604c49921236bfc1f5ea1d\r\n",
      "  Stored in directory: /root/.cache/pip/wheels/50/5d/3c/8477d0af4ca2b8b1308812c09f1930863caeebc762fe265a95\r\n",
      "Successfully built googletrans\r\n",
      "Installing collected packages: rfc3986, hyperframe, hpack, h11, chardet, idna, hstspreload, h2, httpcore, httpx, googletrans\r\n",
      "  Attempting uninstall: h11\r\n",
      "    Found existing installation: h11 0.14.0\r\n",
      "    Uninstalling h11-0.14.0:\r\n",
      "      Successfully uninstalled h11-0.14.0\r\n",
      "  Attempting uninstall: idna\r\n",
      "    Found existing installation: idna 3.6\r\n",
      "    Uninstalling idna-3.6:\r\n",
      "      Successfully uninstalled idna-3.6\r\n",
      "  Attempting uninstall: httpcore\r\n",
      "    Found existing installation: httpcore 1.0.5\r\n",
      "    Uninstalling httpcore-1.0.5:\r\n",
      "      Successfully uninstalled httpcore-1.0.5\r\n",
      "  Attempting uninstall: httpx\r\n",
      "    Found existing installation: httpx 0.27.0\r\n",
      "    Uninstalling httpx-0.27.0:\r\n",
      "      Successfully uninstalled httpx-0.27.0\r\n",
      "\u001b[31mERROR: pip's dependency resolver does not currently take into account all the packages that are installed. This behaviour is the source of the following dependency conflicts.\r\n",
      "tensorflow-decision-forests 1.8.1 requires wurlitzer, which is not installed.\r\n",
      "jupyterlab 4.2.3 requires httpx>=0.25.0, but you have httpx 0.13.3 which is incompatible.\r\n",
      "jupyterlab 4.2.3 requires jupyter-lsp>=2.0.0, but you have jupyter-lsp 1.5.1 which is incompatible.\r\n",
      "jupyterlab-lsp 5.1.0 requires jupyter-lsp>=2.0.0, but you have jupyter-lsp 1.5.1 which is incompatible.\r\n",
      "tensorflow 2.15.0 requires keras<2.16,>=2.15.0, but you have keras 3.4.1 which is incompatible.\r\n",
      "ydata-profiling 4.6.4 requires numpy<1.26,>=1.16.0, but you have numpy 1.26.4 which is incompatible.\u001b[0m\u001b[31m\r\n",
      "\u001b[0mSuccessfully installed chardet-3.0.4 googletrans-3.1.0a0 h11-0.9.0 h2-3.2.0 hpack-3.0.0 hstspreload-2024.7.1 httpcore-0.9.1 httpx-0.13.3 hyperframe-5.2.0 idna-2.10 rfc3986-1.5.0\r\n"
     ]
    },
    {
     "name": "stderr",
     "output_type": "stream",
     "text": [
      "/opt/conda/lib/python3.10/site-packages/nltk/twitter/__init__.py:20: UserWarning: The twython library has not been installed. Some functionality from the twitter package will not be available.\n",
      "  warnings.warn(\"The twython library has not been installed. \"\n"
     ]
    }
   ],
   "source": [
    "!pip install --upgrade googletrans==3.1.0a0\n",
    "\n",
    "import pandas as pd\n",
    "import matplotlib.pyplot as plt\n",
    "from googletrans import Translator\n",
    "from nltk.sentiment.vader import SentimentIntensityAnalyzer\n",
    "from sklearn.cluster import KMeans, AgglomerativeClustering"
   ]
  },
  {
   "cell_type": "markdown",
   "id": "04ef4f21",
   "metadata": {
    "papermill": {
     "duration": 0.008649,
     "end_time": "2024-07-14T06:32:33.668740",
     "exception": false,
     "start_time": "2024-07-14T06:32:33.660091",
     "status": "completed"
    },
    "tags": []
   },
   "source": [
    "# データ収集"
   ]
  },
  {
   "cell_type": "markdown",
   "id": "7801bbb1",
   "metadata": {
    "papermill": {
     "duration": 0.008125,
     "end_time": "2024-07-14T06:32:33.685796",
     "exception": false,
     "start_time": "2024-07-14T06:32:33.677671",
     "status": "completed"
    },
    "tags": []
   },
   "source": [
    "I候補に対する意見をgeminiに問い合わせ収集しました。\n",
    "発言者の苗字は略します。\n"
   ]
  },
  {
   "cell_type": "code",
   "execution_count": 2,
   "id": "1122aa6c",
   "metadata": {
    "execution": {
     "iopub.execute_input": "2024-07-14T06:32:33.703675Z",
     "iopub.status.busy": "2024-07-14T06:32:33.702636Z",
     "iopub.status.idle": "2024-07-14T06:32:33.710543Z",
     "shell.execute_reply": "2024-07-14T06:32:33.709474Z"
    },
    "papermill": {
     "duration": 0.019825,
     "end_time": "2024-07-14T06:32:33.713272",
     "exception": false,
     "start_time": "2024-07-14T06:32:33.693447",
     "status": "completed"
    },
    "tags": []
   },
   "outputs": [],
   "source": [
    "japanese_sentences = [\n",
    "    (\"Shinjiro\",\"彼のようなバイタリティ溢れる人物が都知事になれば、東京は大きく変わるだろう。彼に期待している。\"),\n",
    "    (\"Ryuuki\",\"彼は、自由な発想を持つ政治家だ。彼の今後の活躍が楽しみだ。\"),\n",
    "    (\"Mitsuru\",\"彼の発言は、炎上覚悟で本音を言っているように聞こえる。政治家に必要な勇気だと思う。\"),\n",
    "    (\"Ikkei\",\"彼は、分かりやすい言葉で政治を語る政治家だ。彼は国民の支持を集めるだろう。\"),\n",
    "    (\"Ikou\",\"彼の公約は具体性がない。数字や財源の裏付けを示すべきだ。\"),\n",
    "    (\"Naoki\",\"彼は政策よりもパフォーマンスに力を入れているようだ。都知事として期待できない。\"),\n",
    "    (\"Ichiro\",\"彼は政治家としての経験が浅いため、都知事という大役を果たせるかどうか心配だ。\"),\n",
    "    (\"Yukio\",\"彼は行政経験や財政知識が不足している。彼は都知事として必要な能力を備えているのか疑問だ。\"),\n",
    "    (\"Chiharu\",\"彼は質問を遮ったり、答えなかったりするなど、傲慢な態度だった。\"),\n",
    "    (\"Yuichiro\",\"彼の発言は、多様性を尊重する社会の実現に向けた重要な議論を呼び起こすものだ。\"),\n",
    "    (\"Ruri\",\"彼はカリスマ性がある一方で、傲慢で独りよがりな面もある。政治家としてふさわしい人物かどうか判断が難しい。\"),\n",
    "    (\"Soichiro\",\"彼はカリスマ性だけで政治を運営することはできない。実績を積み重ねていくことが重要だ。\"),\n",
    "]\n"
   ]
  },
  {
   "cell_type": "markdown",
   "id": "55024d6d",
   "metadata": {
    "papermill": {
     "duration": 0.007693,
     "end_time": "2024-07-14T06:32:33.733399",
     "exception": false,
     "start_time": "2024-07-14T06:32:33.725706",
     "status": "completed"
    },
    "tags": []
   },
   "source": [
    "英語に翻訳するので、日本語は英訳し易いように少し手を加えました。"
   ]
  },
  {
   "cell_type": "markdown",
   "id": "442145ae",
   "metadata": {
    "papermill": {
     "duration": 0.007402,
     "end_time": "2024-07-14T06:32:33.749151",
     "exception": false,
     "start_time": "2024-07-14T06:32:33.741749",
     "status": "completed"
    },
    "tags": []
   },
   "source": [
    "# VADER 解析"
   ]
  },
  {
   "cell_type": "markdown",
   "id": "63d0df5d",
   "metadata": {
    "papermill": {
     "duration": 0.008689,
     "end_time": "2024-07-14T06:32:33.765458",
     "exception": false,
     "start_time": "2024-07-14T06:32:33.756769",
     "status": "completed"
    },
    "tags": []
   },
   "source": [
    "\n",
    "\n",
    "極性スコア: VADER は、テキストごとに 4 つの感情スコアを提供します。\n",
    "\n",
    "肯定スコア (pos): 肯定的として分類されるテキストの割合。\n",
    "ネガティブ スコア (neg): ネガティブとして分類されるテキストの割合。\n",
    "ニュートラル スコア (neu): ニュートラルとして分類されるテキストの割合。\n",
    "複合スコア (comp): すべてのレキシコン評価の合計を計算し、-1 (最もネガティブ) から +1 (最もポジティブ) の間で正規化された集計正規化スコア。"
   ]
  },
  {
   "cell_type": "code",
   "execution_count": 3,
   "id": "4742ee7d",
   "metadata": {
    "execution": {
     "iopub.execute_input": "2024-07-14T06:32:33.782923Z",
     "iopub.status.busy": "2024-07-14T06:32:33.782517Z",
     "iopub.status.idle": "2024-07-14T06:32:34.652901Z",
     "shell.execute_reply": "2024-07-14T06:32:34.651728Z"
    },
    "papermill": {
     "duration": 0.881787,
     "end_time": "2024-07-14T06:32:34.655418",
     "exception": false,
     "start_time": "2024-07-14T06:32:33.773631",
     "status": "completed"
    },
    "tags": []
   },
   "outputs": [
    {
     "name": "stdout",
     "output_type": "stream",
     "text": [
      "Name: Shinjiro\n",
      "Original: 彼のようなバイタリティ溢れる人物が都知事になれば、東京は大きく変わるだろう。彼に期待している。\n",
      "Translated: If a person full of vitality like him were to become Tokyo's governor, Tokyo would change dramatically. I have high hopes for him.\n",
      "Sentiment Score: {'neg': 0.0, 'neu': 0.703, 'pos': 0.297, 'compound': 0.765}\n",
      "\n",
      "Name: Ryuuki\n",
      "Original: 彼は、自由な発想を持つ政治家だ。彼の今後の活躍が楽しみだ。\n",
      "Translated: He is a politician with free ideas. I'm looking forward to his future activities.\n",
      "Sentiment Score: {'neg': 0.0, 'neu': 0.784, 'pos': 0.216, 'compound': 0.5106}\n",
      "\n",
      "Name: Mitsuru\n",
      "Original: 彼の発言は、炎上覚悟で本音を言っているように聞こえる。政治家に必要な勇気だと思う。\n",
      "Translated: His statements sound like he's telling the truth with the intention of causing a firestorm. I think he has the courage that politicians need.\n",
      "Sentiment Score: {'neg': 0.0, 'neu': 0.704, 'pos': 0.296, 'compound': 0.7906}\n",
      "\n",
      "Name: Ikkei\n",
      "Original: 彼は、分かりやすい言葉で政治を語る政治家だ。彼は国民の支持を集めるだろう。\n",
      "Translated: He is a politician who speaks politics in easy-to-understand terms. He will gain the support of the people.\n",
      "Sentiment Score: {'neg': 0.0, 'neu': 0.711, 'pos': 0.289, 'compound': 0.7269}\n",
      "\n",
      "Name: Ikou\n",
      "Original: 彼の公約は具体性がない。数字や財源の裏付けを示すべきだ。\n",
      "Translated: His pledge is not concrete. It should be supported by numbers and financial resources.\n",
      "Sentiment Score: {'neg': 0.0, 'neu': 0.85, 'pos': 0.15, 'compound': 0.3182}\n",
      "\n",
      "Name: Naoki\n",
      "Original: 彼は政策よりもパフォーマンスに力を入れているようだ。都知事として期待できない。\n",
      "Translated: He seems to be more focused on performance than policy. I can't expect much from him as Tokyo governor.\n",
      "Sentiment Score: {'neg': 0.0, 'neu': 0.855, 'pos': 0.145, 'compound': 0.4391}\n",
      "\n",
      "Name: Ichiro\n",
      "Original: 彼は政治家としての経験が浅いため、都知事という大役を果たせるかどうか心配だ。\n",
      "Translated: Since he has little experience as a politician, there are concerns about whether he will be able to fulfill the important role of Tokyo governor.\n",
      "Sentiment Score: {'neg': 0.0, 'neu': 0.824, 'pos': 0.176, 'compound': 0.5719}\n",
      "\n",
      "Name: Yukio\n",
      "Original: 彼は行政経験や財政知識が不足している。彼は都知事として必要な能力を備えているのか疑問だ。\n",
      "Translated: He lacks administrative experience and financial knowledge. There are doubts as to whether he has the necessary abilities to serve as Tokyo governor.\n",
      "Sentiment Score: {'neg': 0.087, 'neu': 0.833, 'pos': 0.079, 'compound': -0.0516}\n",
      "\n",
      "Name: Chiharu\n",
      "Original: 彼は質問を遮ったり、答えなかったりするなど、傲慢な態度だった。\n",
      "Translated: He had an arrogant attitude, interrupting questions and not answering them.\n",
      "Sentiment Score: {'neg': 0.375, 'neu': 0.625, 'pos': 0.0, 'compound': -0.6597}\n",
      "\n",
      "Name: Yuichiro\n",
      "Original: 彼の発言は、多様性を尊重する社会の実現に向けた重要な議論を呼び起こすものだ。\n",
      "Translated: His remarks spark important discussions toward the realization of a society that respects diversity.\n",
      "Sentiment Score: {'neg': 0.0, 'neu': 0.625, 'pos': 0.375, 'compound': 0.6124}\n",
      "\n",
      "Name: Ruri\n",
      "Original: 彼はカリスマ性がある一方で、傲慢で独りよがりな面もある。政治家としてふさわしい人物かどうか判断が難しい。\n",
      "Translated: While he is charismatic, he can also be arrogant and self-righteous. It is difficult to judge whether he is suitable as a politician.\n",
      "Sentiment Score: {'neg': 0.222, 'neu': 0.778, 'pos': 0.0, 'compound': -0.6908}\n",
      "\n",
      "Name: Soichiro\n",
      "Original: 彼はカリスマ性だけで政治を運営することはできない。実績を積み重ねていくことが重要だ。\n",
      "Translated: He cannot run politics with charisma alone. It is important for him to continue building up his track record.\n",
      "Sentiment Score: {'neg': 0.096, 'neu': 0.817, 'pos': 0.087, 'compound': -0.0516}\n",
      "\n"
     ]
    }
   ],
   "source": [
    "translator = Translator()\n",
    "vader_analyzer = SentimentIntensityAnalyzer()\n",
    "\n",
    "names=[]\n",
    "ja=[]\n",
    "en=[]\n",
    "pos=[]\n",
    "neu=[]\n",
    "neg=[]\n",
    "comp=[]\n",
    "for name,sentence in japanese_sentences:\n",
    "    translated_text = translator.translate(sentence, src='ja', dest='en').text\n",
    "    score = vader_analyzer.polarity_scores(translated_text)\n",
    "    names+=[name]\n",
    "    ja+=[sentence]\n",
    "    en+=[translated_text]\n",
    "    pos+=[score['pos']]\n",
    "    neu+=[score['neu']]\n",
    "    neg+=[score['neg']]\n",
    "    comp+=[score['compound']]\n",
    "\n",
    "    print(f\"Name: {name}\")\n",
    "    print(f\"Original: {sentence}\")\n",
    "    print(f\"Translated: {translated_text}\")\n",
    "    print(f\"Sentiment Score: {score}\")\n",
    "    print()"
   ]
  },
  {
   "cell_type": "code",
   "execution_count": 4,
   "id": "a21926ca",
   "metadata": {
    "execution": {
     "iopub.execute_input": "2024-07-14T06:32:34.673290Z",
     "iopub.status.busy": "2024-07-14T06:32:34.672886Z",
     "iopub.status.idle": "2024-07-14T06:32:34.710515Z",
     "shell.execute_reply": "2024-07-14T06:32:34.709418Z"
    },
    "papermill": {
     "duration": 0.049532,
     "end_time": "2024-07-14T06:32:34.713032",
     "exception": false,
     "start_time": "2024-07-14T06:32:34.663500",
     "status": "completed"
    },
    "tags": []
   },
   "outputs": [
    {
     "data": {
      "text/html": [
       "<div>\n",
       "<style scoped>\n",
       "    .dataframe tbody tr th:only-of-type {\n",
       "        vertical-align: middle;\n",
       "    }\n",
       "\n",
       "    .dataframe tbody tr th {\n",
       "        vertical-align: top;\n",
       "    }\n",
       "\n",
       "    .dataframe thead th {\n",
       "        text-align: right;\n",
       "    }\n",
       "</style>\n",
       "<table border=\"1\" class=\"dataframe\">\n",
       "  <thead>\n",
       "    <tr style=\"text-align: right;\">\n",
       "      <th></th>\n",
       "      <th>name</th>\n",
       "      <th>ja</th>\n",
       "      <th>en</th>\n",
       "      <th>positive</th>\n",
       "      <th>neutral</th>\n",
       "      <th>negative</th>\n",
       "      <th>comp</th>\n",
       "    </tr>\n",
       "  </thead>\n",
       "  <tbody>\n",
       "    <tr>\n",
       "      <th>0</th>\n",
       "      <td>Shinjiro</td>\n",
       "      <td>彼のようなバイタリティ溢れる人物が都知事になれば、東京は大きく変わるだろう。彼に期待している。</td>\n",
       "      <td>If a person full of vitality like him were to ...</td>\n",
       "      <td>0.297</td>\n",
       "      <td>0.703</td>\n",
       "      <td>0.000</td>\n",
       "      <td>0.7650</td>\n",
       "    </tr>\n",
       "    <tr>\n",
       "      <th>1</th>\n",
       "      <td>Ryuuki</td>\n",
       "      <td>彼は、自由な発想を持つ政治家だ。彼の今後の活躍が楽しみだ。</td>\n",
       "      <td>He is a politician with free ideas. I'm lookin...</td>\n",
       "      <td>0.216</td>\n",
       "      <td>0.784</td>\n",
       "      <td>0.000</td>\n",
       "      <td>0.5106</td>\n",
       "    </tr>\n",
       "    <tr>\n",
       "      <th>2</th>\n",
       "      <td>Mitsuru</td>\n",
       "      <td>彼の発言は、炎上覚悟で本音を言っているように聞こえる。政治家に必要な勇気だと思う。</td>\n",
       "      <td>His statements sound like he's telling the tru...</td>\n",
       "      <td>0.296</td>\n",
       "      <td>0.704</td>\n",
       "      <td>0.000</td>\n",
       "      <td>0.7906</td>\n",
       "    </tr>\n",
       "    <tr>\n",
       "      <th>3</th>\n",
       "      <td>Ikkei</td>\n",
       "      <td>彼は、分かりやすい言葉で政治を語る政治家だ。彼は国民の支持を集めるだろう。</td>\n",
       "      <td>He is a politician who speaks politics in easy...</td>\n",
       "      <td>0.289</td>\n",
       "      <td>0.711</td>\n",
       "      <td>0.000</td>\n",
       "      <td>0.7269</td>\n",
       "    </tr>\n",
       "    <tr>\n",
       "      <th>4</th>\n",
       "      <td>Ikou</td>\n",
       "      <td>彼の公約は具体性がない。数字や財源の裏付けを示すべきだ。</td>\n",
       "      <td>His pledge is not concrete. It should be suppo...</td>\n",
       "      <td>0.150</td>\n",
       "      <td>0.850</td>\n",
       "      <td>0.000</td>\n",
       "      <td>0.3182</td>\n",
       "    </tr>\n",
       "    <tr>\n",
       "      <th>5</th>\n",
       "      <td>Naoki</td>\n",
       "      <td>彼は政策よりもパフォーマンスに力を入れているようだ。都知事として期待できない。</td>\n",
       "      <td>He seems to be more focused on performance tha...</td>\n",
       "      <td>0.145</td>\n",
       "      <td>0.855</td>\n",
       "      <td>0.000</td>\n",
       "      <td>0.4391</td>\n",
       "    </tr>\n",
       "    <tr>\n",
       "      <th>6</th>\n",
       "      <td>Ichiro</td>\n",
       "      <td>彼は政治家としての経験が浅いため、都知事という大役を果たせるかどうか心配だ。</td>\n",
       "      <td>Since he has little experience as a politician...</td>\n",
       "      <td>0.176</td>\n",
       "      <td>0.824</td>\n",
       "      <td>0.000</td>\n",
       "      <td>0.5719</td>\n",
       "    </tr>\n",
       "    <tr>\n",
       "      <th>7</th>\n",
       "      <td>Yukio</td>\n",
       "      <td>彼は行政経験や財政知識が不足している。彼は都知事として必要な能力を備えているのか疑問だ。</td>\n",
       "      <td>He lacks administrative experience and financi...</td>\n",
       "      <td>0.079</td>\n",
       "      <td>0.833</td>\n",
       "      <td>0.087</td>\n",
       "      <td>-0.0516</td>\n",
       "    </tr>\n",
       "    <tr>\n",
       "      <th>8</th>\n",
       "      <td>Chiharu</td>\n",
       "      <td>彼は質問を遮ったり、答えなかったりするなど、傲慢な態度だった。</td>\n",
       "      <td>He had an arrogant attitude, interrupting ques...</td>\n",
       "      <td>0.000</td>\n",
       "      <td>0.625</td>\n",
       "      <td>0.375</td>\n",
       "      <td>-0.6597</td>\n",
       "    </tr>\n",
       "    <tr>\n",
       "      <th>9</th>\n",
       "      <td>Yuichiro</td>\n",
       "      <td>彼の発言は、多様性を尊重する社会の実現に向けた重要な議論を呼び起こすものだ。</td>\n",
       "      <td>His remarks spark important discussions toward...</td>\n",
       "      <td>0.375</td>\n",
       "      <td>0.625</td>\n",
       "      <td>0.000</td>\n",
       "      <td>0.6124</td>\n",
       "    </tr>\n",
       "    <tr>\n",
       "      <th>10</th>\n",
       "      <td>Ruri</td>\n",
       "      <td>彼はカリスマ性がある一方で、傲慢で独りよがりな面もある。政治家としてふさわしい人物かどうか判...</td>\n",
       "      <td>While he is charismatic, he can also be arroga...</td>\n",
       "      <td>0.000</td>\n",
       "      <td>0.778</td>\n",
       "      <td>0.222</td>\n",
       "      <td>-0.6908</td>\n",
       "    </tr>\n",
       "    <tr>\n",
       "      <th>11</th>\n",
       "      <td>Soichiro</td>\n",
       "      <td>彼はカリスマ性だけで政治を運営することはできない。実績を積み重ねていくことが重要だ。</td>\n",
       "      <td>He cannot run politics with charisma alone. It...</td>\n",
       "      <td>0.087</td>\n",
       "      <td>0.817</td>\n",
       "      <td>0.096</td>\n",
       "      <td>-0.0516</td>\n",
       "    </tr>\n",
       "  </tbody>\n",
       "</table>\n",
       "</div>"
      ],
      "text/plain": [
       "        name                                                 ja  \\\n",
       "0   Shinjiro    彼のようなバイタリティ溢れる人物が都知事になれば、東京は大きく変わるだろう。彼に期待している。   \n",
       "1     Ryuuki                      彼は、自由な発想を持つ政治家だ。彼の今後の活躍が楽しみだ。   \n",
       "2    Mitsuru          彼の発言は、炎上覚悟で本音を言っているように聞こえる。政治家に必要な勇気だと思う。   \n",
       "3      Ikkei              彼は、分かりやすい言葉で政治を語る政治家だ。彼は国民の支持を集めるだろう。   \n",
       "4       Ikou                       彼の公約は具体性がない。数字や財源の裏付けを示すべきだ。   \n",
       "5      Naoki            彼は政策よりもパフォーマンスに力を入れているようだ。都知事として期待できない。   \n",
       "6     Ichiro             彼は政治家としての経験が浅いため、都知事という大役を果たせるかどうか心配だ。   \n",
       "7      Yukio       彼は行政経験や財政知識が不足している。彼は都知事として必要な能力を備えているのか疑問だ。   \n",
       "8    Chiharu                    彼は質問を遮ったり、答えなかったりするなど、傲慢な態度だった。   \n",
       "9   Yuichiro             彼の発言は、多様性を尊重する社会の実現に向けた重要な議論を呼び起こすものだ。   \n",
       "10      Ruri  彼はカリスマ性がある一方で、傲慢で独りよがりな面もある。政治家としてふさわしい人物かどうか判...   \n",
       "11  Soichiro         彼はカリスマ性だけで政治を運営することはできない。実績を積み重ねていくことが重要だ。   \n",
       "\n",
       "                                                   en  positive  neutral  \\\n",
       "0   If a person full of vitality like him were to ...     0.297    0.703   \n",
       "1   He is a politician with free ideas. I'm lookin...     0.216    0.784   \n",
       "2   His statements sound like he's telling the tru...     0.296    0.704   \n",
       "3   He is a politician who speaks politics in easy...     0.289    0.711   \n",
       "4   His pledge is not concrete. It should be suppo...     0.150    0.850   \n",
       "5   He seems to be more focused on performance tha...     0.145    0.855   \n",
       "6   Since he has little experience as a politician...     0.176    0.824   \n",
       "7   He lacks administrative experience and financi...     0.079    0.833   \n",
       "8   He had an arrogant attitude, interrupting ques...     0.000    0.625   \n",
       "9   His remarks spark important discussions toward...     0.375    0.625   \n",
       "10  While he is charismatic, he can also be arroga...     0.000    0.778   \n",
       "11  He cannot run politics with charisma alone. It...     0.087    0.817   \n",
       "\n",
       "    negative    comp  \n",
       "0      0.000  0.7650  \n",
       "1      0.000  0.5106  \n",
       "2      0.000  0.7906  \n",
       "3      0.000  0.7269  \n",
       "4      0.000  0.3182  \n",
       "5      0.000  0.4391  \n",
       "6      0.000  0.5719  \n",
       "7      0.087 -0.0516  \n",
       "8      0.375 -0.6597  \n",
       "9      0.000  0.6124  \n",
       "10     0.222 -0.6908  \n",
       "11     0.096 -0.0516  "
      ]
     },
     "metadata": {},
     "output_type": "display_data"
    }
   ],
   "source": [
    "data=pd.DataFrame()\n",
    "data['name']=names\n",
    "data['ja']=ja\n",
    "data['en']=en\n",
    "data['positive']=pos\n",
    "data['neutral']=neu\n",
    "data['negative']=neg\n",
    "data['comp']=comp\n",
    "display(data)"
   ]
  },
  {
   "cell_type": "markdown",
   "id": "26e5d79d",
   "metadata": {
    "papermill": {
     "duration": 0.008043,
     "end_time": "2024-07-14T06:32:34.729413",
     "exception": false,
     "start_time": "2024-07-14T06:32:34.721370",
     "status": "completed"
    },
    "tags": []
   },
   "source": [
    "# Agglomerativeクラスタリング"
   ]
  },
  {
   "cell_type": "code",
   "execution_count": 5,
   "id": "be6cc963",
   "metadata": {
    "execution": {
     "iopub.execute_input": "2024-07-14T06:32:34.747695Z",
     "iopub.status.busy": "2024-07-14T06:32:34.747298Z",
     "iopub.status.idle": "2024-07-14T06:32:34.793015Z",
     "shell.execute_reply": "2024-07-14T06:32:34.791690Z"
    },
    "papermill": {
     "duration": 0.058287,
     "end_time": "2024-07-14T06:32:34.795953",
     "exception": false,
     "start_time": "2024-07-14T06:32:34.737666",
     "status": "completed"
    },
    "tags": []
   },
   "outputs": [
    {
     "name": "stderr",
     "output_type": "stream",
     "text": [
      "/opt/conda/lib/python3.10/site-packages/sklearn/cluster/_agglomerative.py:983: FutureWarning: Attribute `affinity` was deprecated in version 1.2 and will be removed in 1.4. Use `metric` instead\n",
      "  warnings.warn(\n"
     ]
    },
    {
     "data": {
      "text/html": [
       "<div>\n",
       "<style scoped>\n",
       "    .dataframe tbody tr th:only-of-type {\n",
       "        vertical-align: middle;\n",
       "    }\n",
       "\n",
       "    .dataframe tbody tr th {\n",
       "        vertical-align: top;\n",
       "    }\n",
       "\n",
       "    .dataframe thead th {\n",
       "        text-align: right;\n",
       "    }\n",
       "</style>\n",
       "<table border=\"1\" class=\"dataframe\">\n",
       "  <thead>\n",
       "    <tr style=\"text-align: right;\">\n",
       "      <th></th>\n",
       "      <th>name</th>\n",
       "      <th>ja</th>\n",
       "      <th>en</th>\n",
       "      <th>positive</th>\n",
       "      <th>neutral</th>\n",
       "      <th>negative</th>\n",
       "      <th>comp</th>\n",
       "      <th>cluster</th>\n",
       "    </tr>\n",
       "  </thead>\n",
       "  <tbody>\n",
       "    <tr>\n",
       "      <th>0</th>\n",
       "      <td>Shinjiro</td>\n",
       "      <td>彼のようなバイタリティ溢れる人物が都知事になれば、東京は大きく変わるだろう。彼に期待している。</td>\n",
       "      <td>If a person full of vitality like him were to ...</td>\n",
       "      <td>0.297</td>\n",
       "      <td>0.703</td>\n",
       "      <td>0.000</td>\n",
       "      <td>0.7650</td>\n",
       "      <td>0</td>\n",
       "    </tr>\n",
       "    <tr>\n",
       "      <th>1</th>\n",
       "      <td>Ryuuki</td>\n",
       "      <td>彼は、自由な発想を持つ政治家だ。彼の今後の活躍が楽しみだ。</td>\n",
       "      <td>He is a politician with free ideas. I'm lookin...</td>\n",
       "      <td>0.216</td>\n",
       "      <td>0.784</td>\n",
       "      <td>0.000</td>\n",
       "      <td>0.5106</td>\n",
       "      <td>4</td>\n",
       "    </tr>\n",
       "    <tr>\n",
       "      <th>2</th>\n",
       "      <td>Mitsuru</td>\n",
       "      <td>彼の発言は、炎上覚悟で本音を言っているように聞こえる。政治家に必要な勇気だと思う。</td>\n",
       "      <td>His statements sound like he's telling the tru...</td>\n",
       "      <td>0.296</td>\n",
       "      <td>0.704</td>\n",
       "      <td>0.000</td>\n",
       "      <td>0.7906</td>\n",
       "      <td>0</td>\n",
       "    </tr>\n",
       "    <tr>\n",
       "      <th>3</th>\n",
       "      <td>Ikkei</td>\n",
       "      <td>彼は、分かりやすい言葉で政治を語る政治家だ。彼は国民の支持を集めるだろう。</td>\n",
       "      <td>He is a politician who speaks politics in easy...</td>\n",
       "      <td>0.289</td>\n",
       "      <td>0.711</td>\n",
       "      <td>0.000</td>\n",
       "      <td>0.7269</td>\n",
       "      <td>0</td>\n",
       "    </tr>\n",
       "    <tr>\n",
       "      <th>4</th>\n",
       "      <td>Ikou</td>\n",
       "      <td>彼の公約は具体性がない。数字や財源の裏付けを示すべきだ。</td>\n",
       "      <td>His pledge is not concrete. It should be suppo...</td>\n",
       "      <td>0.150</td>\n",
       "      <td>0.850</td>\n",
       "      <td>0.000</td>\n",
       "      <td>0.3182</td>\n",
       "      <td>3</td>\n",
       "    </tr>\n",
       "    <tr>\n",
       "      <th>5</th>\n",
       "      <td>Naoki</td>\n",
       "      <td>彼は政策よりもパフォーマンスに力を入れているようだ。都知事として期待できない。</td>\n",
       "      <td>He seems to be more focused on performance tha...</td>\n",
       "      <td>0.145</td>\n",
       "      <td>0.855</td>\n",
       "      <td>0.000</td>\n",
       "      <td>0.4391</td>\n",
       "      <td>3</td>\n",
       "    </tr>\n",
       "    <tr>\n",
       "      <th>6</th>\n",
       "      <td>Ichiro</td>\n",
       "      <td>彼は政治家としての経験が浅いため、都知事という大役を果たせるかどうか心配だ。</td>\n",
       "      <td>Since he has little experience as a politician...</td>\n",
       "      <td>0.176</td>\n",
       "      <td>0.824</td>\n",
       "      <td>0.000</td>\n",
       "      <td>0.5719</td>\n",
       "      <td>4</td>\n",
       "    </tr>\n",
       "    <tr>\n",
       "      <th>7</th>\n",
       "      <td>Yukio</td>\n",
       "      <td>彼は行政経験や財政知識が不足している。彼は都知事として必要な能力を備えているのか疑問だ。</td>\n",
       "      <td>He lacks administrative experience and financi...</td>\n",
       "      <td>0.079</td>\n",
       "      <td>0.833</td>\n",
       "      <td>0.087</td>\n",
       "      <td>-0.0516</td>\n",
       "      <td>2</td>\n",
       "    </tr>\n",
       "    <tr>\n",
       "      <th>8</th>\n",
       "      <td>Chiharu</td>\n",
       "      <td>彼は質問を遮ったり、答えなかったりするなど、傲慢な態度だった。</td>\n",
       "      <td>He had an arrogant attitude, interrupting ques...</td>\n",
       "      <td>0.000</td>\n",
       "      <td>0.625</td>\n",
       "      <td>0.375</td>\n",
       "      <td>-0.6597</td>\n",
       "      <td>1</td>\n",
       "    </tr>\n",
       "    <tr>\n",
       "      <th>9</th>\n",
       "      <td>Yuichiro</td>\n",
       "      <td>彼の発言は、多様性を尊重する社会の実現に向けた重要な議論を呼び起こすものだ。</td>\n",
       "      <td>His remarks spark important discussions toward...</td>\n",
       "      <td>0.375</td>\n",
       "      <td>0.625</td>\n",
       "      <td>0.000</td>\n",
       "      <td>0.6124</td>\n",
       "      <td>0</td>\n",
       "    </tr>\n",
       "    <tr>\n",
       "      <th>10</th>\n",
       "      <td>Ruri</td>\n",
       "      <td>彼はカリスマ性がある一方で、傲慢で独りよがりな面もある。政治家としてふさわしい人物かどうか判...</td>\n",
       "      <td>While he is charismatic, he can also be arroga...</td>\n",
       "      <td>0.000</td>\n",
       "      <td>0.778</td>\n",
       "      <td>0.222</td>\n",
       "      <td>-0.6908</td>\n",
       "      <td>1</td>\n",
       "    </tr>\n",
       "    <tr>\n",
       "      <th>11</th>\n",
       "      <td>Soichiro</td>\n",
       "      <td>彼はカリスマ性だけで政治を運営することはできない。実績を積み重ねていくことが重要だ。</td>\n",
       "      <td>He cannot run politics with charisma alone. It...</td>\n",
       "      <td>0.087</td>\n",
       "      <td>0.817</td>\n",
       "      <td>0.096</td>\n",
       "      <td>-0.0516</td>\n",
       "      <td>2</td>\n",
       "    </tr>\n",
       "  </tbody>\n",
       "</table>\n",
       "</div>"
      ],
      "text/plain": [
       "        name                                                 ja  \\\n",
       "0   Shinjiro    彼のようなバイタリティ溢れる人物が都知事になれば、東京は大きく変わるだろう。彼に期待している。   \n",
       "1     Ryuuki                      彼は、自由な発想を持つ政治家だ。彼の今後の活躍が楽しみだ。   \n",
       "2    Mitsuru          彼の発言は、炎上覚悟で本音を言っているように聞こえる。政治家に必要な勇気だと思う。   \n",
       "3      Ikkei              彼は、分かりやすい言葉で政治を語る政治家だ。彼は国民の支持を集めるだろう。   \n",
       "4       Ikou                       彼の公約は具体性がない。数字や財源の裏付けを示すべきだ。   \n",
       "5      Naoki            彼は政策よりもパフォーマンスに力を入れているようだ。都知事として期待できない。   \n",
       "6     Ichiro             彼は政治家としての経験が浅いため、都知事という大役を果たせるかどうか心配だ。   \n",
       "7      Yukio       彼は行政経験や財政知識が不足している。彼は都知事として必要な能力を備えているのか疑問だ。   \n",
       "8    Chiharu                    彼は質問を遮ったり、答えなかったりするなど、傲慢な態度だった。   \n",
       "9   Yuichiro             彼の発言は、多様性を尊重する社会の実現に向けた重要な議論を呼び起こすものだ。   \n",
       "10      Ruri  彼はカリスマ性がある一方で、傲慢で独りよがりな面もある。政治家としてふさわしい人物かどうか判...   \n",
       "11  Soichiro         彼はカリスマ性だけで政治を運営することはできない。実績を積み重ねていくことが重要だ。   \n",
       "\n",
       "                                                   en  positive  neutral  \\\n",
       "0   If a person full of vitality like him were to ...     0.297    0.703   \n",
       "1   He is a politician with free ideas. I'm lookin...     0.216    0.784   \n",
       "2   His statements sound like he's telling the tru...     0.296    0.704   \n",
       "3   He is a politician who speaks politics in easy...     0.289    0.711   \n",
       "4   His pledge is not concrete. It should be suppo...     0.150    0.850   \n",
       "5   He seems to be more focused on performance tha...     0.145    0.855   \n",
       "6   Since he has little experience as a politician...     0.176    0.824   \n",
       "7   He lacks administrative experience and financi...     0.079    0.833   \n",
       "8   He had an arrogant attitude, interrupting ques...     0.000    0.625   \n",
       "9   His remarks spark important discussions toward...     0.375    0.625   \n",
       "10  While he is charismatic, he can also be arroga...     0.000    0.778   \n",
       "11  He cannot run politics with charisma alone. It...     0.087    0.817   \n",
       "\n",
       "    negative    comp  cluster  \n",
       "0      0.000  0.7650        0  \n",
       "1      0.000  0.5106        4  \n",
       "2      0.000  0.7906        0  \n",
       "3      0.000  0.7269        0  \n",
       "4      0.000  0.3182        3  \n",
       "5      0.000  0.4391        3  \n",
       "6      0.000  0.5719        4  \n",
       "7      0.087 -0.0516        2  \n",
       "8      0.375 -0.6597        1  \n",
       "9      0.000  0.6124        0  \n",
       "10     0.222 -0.6908        1  \n",
       "11     0.096 -0.0516        2  "
      ]
     },
     "metadata": {},
     "output_type": "display_data"
    }
   ],
   "source": [
    "def doAgglomerative(X, nclust=2):\n",
    "    model = AgglomerativeClustering(n_clusters=nclust, affinity = 'euclidean', linkage = 'ward')\n",
    "    clust_labels = model.fit_predict(X)\n",
    "    return clust_labels\n",
    "\n",
    "clust_labels = doAgglomerative(data.iloc[:,3:],5)\n",
    "agglomerative = pd.DataFrame(clust_labels)\n",
    "data.insert((data.shape[1]),'cluster',agglomerative)\n",
    "display(data)\n",
    "df=data"
   ]
  },
  {
   "cell_type": "markdown",
   "id": "072420ff",
   "metadata": {
    "papermill": {
     "duration": 0.008374,
     "end_time": "2024-07-14T06:32:34.813071",
     "exception": false,
     "start_time": "2024-07-14T06:32:34.804697",
     "status": "completed"
    },
    "tags": []
   },
   "source": [
    "明確な肯定的な人、明確に否定的な人、それ以外に分けることを目的とした。nclust=3では上手くいかなかった。nclust=5にすることで、明確な肯定的な人、明確に否定的な人、のクラスターと取り出すことができた。"
   ]
  },
  {
   "cell_type": "code",
   "execution_count": 6,
   "id": "6ab99fce",
   "metadata": {
    "execution": {
     "iopub.execute_input": "2024-07-14T06:32:34.832943Z",
     "iopub.status.busy": "2024-07-14T06:32:34.832545Z",
     "iopub.status.idle": "2024-07-14T06:32:34.847637Z",
     "shell.execute_reply": "2024-07-14T06:32:34.846507Z"
    },
    "papermill": {
     "duration": 0.028475,
     "end_time": "2024-07-14T06:32:34.850347",
     "exception": false,
     "start_time": "2024-07-14T06:32:34.821872",
     "status": "completed"
    },
    "tags": []
   },
   "outputs": [
    {
     "name": "stdout",
     "output_type": "stream",
     "text": [
      "   cluster                                  name\n",
      "0        0  [Shinjiro, Mitsuru, Ikkei, Yuichiro]\n",
      "1        1                       [Chiharu, Ruri]\n",
      "2        2                     [Yukio, Soichiro]\n",
      "3        3                         [Ikou, Naoki]\n",
      "4        4                      [Ryuuki, Ichiro]\n"
     ]
    }
   ],
   "source": [
    "cluster = df.groupby('cluster')['name'].apply(list).reset_index()\n",
    "print(cluster)"
   ]
  },
  {
   "cell_type": "markdown",
   "id": "240f59a4",
   "metadata": {
    "papermill": {
     "duration": 0.008628,
     "end_time": "2024-07-14T06:32:34.867722",
     "exception": false,
     "start_time": "2024-07-14T06:32:34.859094",
     "status": "completed"
    },
    "tags": []
   },
   "source": [
    "## Compound Score (comp) と Neutral Score (neu):\n",
    "テキストの感情の強さと中立的な要素のバランスを確認できます。"
   ]
  },
  {
   "cell_type": "code",
   "execution_count": 7,
   "id": "59d44ab1",
   "metadata": {
    "execution": {
     "iopub.execute_input": "2024-07-14T06:32:34.887671Z",
     "iopub.status.busy": "2024-07-14T06:32:34.886846Z",
     "iopub.status.idle": "2024-07-14T06:32:35.354908Z",
     "shell.execute_reply": "2024-07-14T06:32:35.353579Z"
    },
    "papermill": {
     "duration": 0.481201,
     "end_time": "2024-07-14T06:32:35.357770",
     "exception": false,
     "start_time": "2024-07-14T06:32:34.876569",
     "status": "completed"
    },
    "tags": []
   },
   "outputs": [
    {
     "data": {
      "image/png": "[encoded data removed]",
      "text/plain": [
       "<Figure size 800x600 with 2 Axes>"
      ]
     },
     "metadata": {},
     "output_type": "display_data"
    }
   ],
   "source": [
    "plt.figure(figsize=(8,6))\n",
    "plt.scatter(df['neutral'], df['comp'], c=df['cluster'], s=100, cmap='viridis', edgecolor='k', alpha=0.6)\n",
    "for i, txt in enumerate(df['name']):\n",
    "    plt.annotate(txt, (df['neutral'][i], df['comp'][i]), textcoords=\"offset points\", xytext=(0,5), ha='center')\n",
    "\n",
    "plt.xlabel('Neutral Values')\n",
    "plt.ylabel('Compound Values')\n",
    "plt.title('Agglomerative Clustering')\n",
    "plt.grid(True)\n",
    "plt.colorbar(label='Cluster')\n",
    "plt.show()"
   ]
  },
  {
   "cell_type": "markdown",
   "id": "1de89bbc",
   "metadata": {
    "papermill": {
     "duration": 0.009981,
     "end_time": "2024-07-14T06:32:35.379592",
     "exception": false,
     "start_time": "2024-07-14T06:32:35.369611",
     "status": "completed"
    },
    "tags": []
   },
   "source": [
    "## Positive Score (pos) と Negative Score (neg):\n",
    "テキストの肯定的な側面と否定的な側面を比較できます。"
   ]
  },
  {
   "cell_type": "code",
   "execution_count": 8,
   "id": "d8a67d80",
   "metadata": {
    "execution": {
     "iopub.execute_input": "2024-07-14T06:32:35.400642Z",
     "iopub.status.busy": "2024-07-14T06:32:35.400272Z",
     "iopub.status.idle": "2024-07-14T06:32:35.821368Z",
     "shell.execute_reply": "2024-07-14T06:32:35.820363Z"
    },
    "papermill": {
     "duration": 0.43488,
     "end_time": "2024-07-14T06:32:35.824144",
     "exception": false,
     "start_time": "2024-07-14T06:32:35.389264",
     "status": "completed"
    },
    "tags": []
   },
   "outputs": [
    {
     "data": {
      "image/png": "[encoded data removed]",
      "text/plain": [
       "<Figure size 800x600 with 2 Axes>"
      ]
     },
     "metadata": {},
     "output_type": "display_data"
    }
   ],
   "source": [
    "plt.figure(figsize=(8,6))\n",
    "plt.scatter(df['positive'], df['negative'], c=df['cluster'], s=100, cmap='viridis', edgecolor='k', alpha=0.6)\n",
    "for i, txt in enumerate(df['name']):\n",
    "    plt.annotate(txt, (df['positive'][i], df['negative'][i]), textcoords=\"offset points\", xytext=(0,5), ha='center')\n",
    "\n",
    "plt.xlabel('Positive Values')\n",
    "plt.ylabel('Negative Values')\n",
    "plt.title('Agglomerative Clustering')\n",
    "plt.grid(True)\n",
    "plt.colorbar(label='Cluster')\n",
    "plt.show()"
   ]
  },
  {
   "cell_type": "code",
   "execution_count": null,
   "id": "b9e28b00",
   "metadata": {
    "papermill": {
     "duration": 0.011057,
     "end_time": "2024-07-14T06:32:35.845616",
     "exception": false,
     "start_time": "2024-07-14T06:32:35.834559",
     "status": "completed"
    },
    "tags": []
   },
   "outputs": [],
   "source": []
  }
 ],
 "metadata": {
  "kaggle": {
   "accelerator": "none",
   "dataSources": [],
   "dockerImageVersionId": 30746,
   "isGpuEnabled": false,
   "isInternetEnabled": true,
   "language": "python",
   "sourceType": "notebook"
  },
  "kernelspec": {
   "display_name": "Python 3",
   "language": "python",
   "name": "python3"
  },
  "language_info": {
   "codemirror_mode": {
    "name": "ipython",
    "version": 3
   },
   "file_extension": ".py",
   "mimetype": "text/x-python",
   "name": "python",
   "nbconvert_exporter": "python",
   "pygments_lexer": "ipython3",
   "version": "3.10.13"
  },
  "papermill": {
   "default_parameters": {},
   "duration": 28.195362,
   "end_time": "2024-07-14T06:32:36.578670",
   "environment_variables": {},
   "exception": null,
   "input_path": "__notebook__.ipynb",
   "output_path": "__notebook__.ipynb",
   "parameters": {},
   "start_time": "2024-07-14T06:32:08.383308",
   "version": "2.5.0"
  }
 },
 "nbformat": 4,
 "nbformat_minor": 5
}
